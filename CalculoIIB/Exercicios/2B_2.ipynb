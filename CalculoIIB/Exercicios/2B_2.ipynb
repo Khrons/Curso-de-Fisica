{
  "nbformat": 4,
  "nbformat_minor": 0,
  "metadata": {
    "colab": {
      "name": "2B-2.ipynb",
      "provenance": [],
      "authorship_tag": "ABX9TyOP2uRxw8RCPN1emDc7DMmo",
      "include_colab_link": true
    },
    "kernelspec": {
      "name": "python3",
      "display_name": "Python 3"
    }
  },
  "cells": [
    {
      "cell_type": "markdown",
      "metadata": {
        "id": "view-in-github",
        "colab_type": "text"
      },
      "source": [
        "<a href=\"https://colab.research.google.com/github/Khrons/Exercicios/blob/main/2B_2.ipynb\" target=\"_parent\"><img src=\"https://colab.research.google.com/assets/colab-badge.svg\" alt=\"Open In Colab\"/></a>"
      ]
    },
    {
      "cell_type": "code",
      "metadata": {
        "id": "Q5cBE_BsHvrF",
        "colab": {
          "base_uri": "https://localhost:8080/",
          "height": 38
        },
        "cellView": "form",
        "outputId": "8fdbe378-79ee-4bb0-8068-36d599cf1b03"
      },
      "source": [
        "#@title\n",
        "import numpy as np\n",
        "import matplotlib.pyplot as plt\n",
        "import sympy as sy\n",
        "from mpl_toolkits.mplot3d import axes3d\n",
        "sy.init_printing()\n",
        "sy.var('x, y, t, PQ')"
      ],
      "execution_count": null,
      "outputs": [
        {
          "output_type": "execute_result",
          "data": {
            "image/png": "[encoded data removed]",
            "text/latex": "$$\\left ( x, \\quad y, \\quad t, \\quad PQ\\right )$$",
            "text/plain": [
              "(x, y, t, PQ)"
            ]
          },
          "metadata": {
            "tags": []
          },
          "execution_count": 20
        }
      ]
    },
    {
      "cell_type": "code",
      "metadata": {
        "colab": {
          "base_uri": "https://localhost:8080/",
          "height": 38
        },
        "id": "gz0ol-d5JCzV",
        "outputId": "5e0ec209-6808-46ba-dfdd-2248bb71255e"
      },
      "source": [
        "sy.Lambda(PQ, (1 - t)*P + t*Q)"
      ],
      "execution_count": null,
      "outputs": [
        {
          "output_type": "execute_result",
          "data": {
            "image/png": "[encoded data removed]",
            "text/latex": "$$\\left( PQ \\mapsto P \\left(- t + 1\\right) + Q t \\right)$$",
            "text/plain": [
              "PQ ↦ P⋅(-t + 1) + Q⋅t"
            ]
          },
          "metadata": {
            "tags": []
          },
          "execution_count": 9
        }
      ]
    },
    {
      "cell_type": "markdown",
      "metadata": {
        "id": "wR3vg82Hllqr"
      },
      "source": [
        "eqParametrica = [1, 3 - t, 5 - (2 * t)]\r\n",
        "\r\n",
        "x = 1\r\n",
        "\r\n",
        "y = 3 - t\r\n",
        "\r\n",
        "z = 5 - (2 * t)\r\n",
        "\r\n",
        "\r\n",
        "\r\n",
        "---\r\n",
        "\r\n",
        "\r\n",
        "z = 5 - (2 * (3 - y))\r\n",
        "\r\n",
        "z = 5 - (6 - 2y)\r\n",
        "\r\n",
        "z = -1 - 2y\r\n",
        "\r\n",
        "z + 2y + 1 = 0\r\n",
        "\r\n",
        "\r\n",
        "---\r\n",
        "\r\n",
        "\r\n",
        "\r\n",
        "x + 2y + z = 0"
      ]
    }
  ]
}