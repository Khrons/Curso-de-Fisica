{
  "nbformat": 4,
  "nbformat_minor": 0,
  "metadata": {
    "colab": {
      "name": "03.ipynb",
      "provenance": [],
      "authorship_tag": "ABX9TyMIBtpkGHBAeApm+W0FDeKa",
      "include_colab_link": true
    },
    "kernelspec": {
      "name": "python3",
      "display_name": "Python 3"
    }
  },
  "cells": [
    {
      "cell_type": "markdown",
      "metadata": {
        "id": "view-in-github",
        "colab_type": "text"
      },
      "source": [
        "<a href=\"https://colab.research.google.com/github/Khrons/Curso-de-Fisica/blob/main/Curso-de-Fisica/tree/main/CalculoIIB/Exercicios/Semana%25201/03.ipynb\" target=\"_parent\"><img src=\"https://colab.research.google.com/assets/colab-badge.svg\" alt=\"Open In Colab\"/></a>"
      ]
    },
    {
      "cell_type": "code",
      "metadata": {
        "colab": {
          "base_uri": "https://localhost:8080/",
          "height": 38
        },
        "id": "bynYnG09Tx_I",
        "outputId": "ac640af3-d6a2-42cf-85b6-7aa82c90ec0e"
      },
      "source": [
        "import sympy as sy\r\n",
        "sy.init_printing()\r\n",
        "sy.var('z(t), x, y, z, cone, plano')"
      ],
      "execution_count": 27,
      "outputs": [
        {
          "output_type": "execute_result",
          "data": {
            "image/png": "[encoded data removed]",
            "text/latex": "$$\\left ( z(t), \\quad x, \\quad y, \\quad z, \\quad cone, \\quad plano\\right )$$",
            "text/plain": [
              "(z(t), x, y, z, cone, plano)"
            ]
          },
          "metadata": {
            "tags": []
          },
          "execution_count": 27
        }
      ]
    },
    {
      "cell_type": "code",
      "metadata": {
        "colab": {
          "base_uri": "https://localhost:8080/",
          "height": 47
        },
        "id": "utRptzgTU063",
        "outputId": "b1b513d2-4d52-4f07-9bda-4f27e9d0b3fa"
      },
      "source": [
        "sy.Lambda(cone, sy.sqrt(x**2 + y**2))"
      ],
      "execution_count": 17,
      "outputs": [
        {
          "output_type": "execute_result",
          "data": {
            "image/png": "[encoded data removed]",
            "text/latex": "$$\\left( cone \\mapsto \\sqrt{x^{2} + y^{2}} \\right)$$",
            "text/plain": [
              "          _________\n",
              "         ╱  2    2 \n",
              "cone ↦ ╲╱  x  + y  "
            ]
          },
          "metadata": {
            "tags": []
          },
          "execution_count": 17
        }
      ]
    },
    {
      "cell_type": "code",
      "metadata": {
        "colab": {
          "base_uri": "https://localhost:8080/",
          "height": 38
        },
        "id": "vxIQ7xkIVcLp",
        "outputId": "fd4f07f2-c5c3-43cf-c3b6-3a8913eac774"
      },
      "source": [
        "sy.Lambda(plano, 1 + y)"
      ],
      "execution_count": 19,
      "outputs": [
        {
          "output_type": "execute_result",
          "data": {
            "image/png": "[encoded data removed]",
            "text/latex": "$$\\left( plano \\mapsto y + 1 \\right)$$",
            "text/plain": [
              "plano ↦ y + 1"
            ]
          },
          "metadata": {
            "tags": []
          },
          "execution_count": 19
        }
      ]
    },
    {
      "cell_type": "markdown",
      "metadata": {
        "id": "9eBEpqkDV0MQ"
      },
      "source": [
        "\r\n",
        "sqrt(x ** 2 + y ** 2)  = y + 1\r\n",
        "\r\n",
        "\r\n",
        "---\r\n",
        "x ** 2 + y ** 2 = y ** 2 + 2y + 1\r\n",
        "\r\n",
        "---\r\n",
        "\r\n",
        "x²(t) = 2y(t) + 1\r\n",
        "\r\n",
        "x(t) = sqrt(2y(t) + 1)\r\n",
        "\r\n",
        "---\r\n",
        "\r\n",
        "Se x(t) = t\r\n",
        "\r\n",
        "t = sqrt(2y(t) + 1)\r\n",
        "\r\n",
        "t² = 2y(t) + 1\r\n",
        "\r\n",
        "y(t) = (t² - 1) / 2\r\n",
        "\r\n",
        "---\r\n",
        "\r\n",
        "z(t) = y(t) + 1\r\n",
        "\r\n",
        "z(t) = 1 + (t² - 1) / 2  \r\n",
        " \r\n",
        "z(t) = (t² + 1) / 2\r\n",
        "\r\n",
        "Eq. Paramétrica: {t, (t² - 1) / 2, (t² + 1) / 2}"
      ]
    }
  ]
}