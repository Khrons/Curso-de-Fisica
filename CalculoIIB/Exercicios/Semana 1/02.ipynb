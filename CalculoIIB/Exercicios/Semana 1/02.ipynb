{
  "nbformat": 4,
  "nbformat_minor": 0,
  "metadata": {
    "colab": {
      "name": "2B-2.ipynb",
      "provenance": [],
      "authorship_tag": "ABX9TyPVX+AnULNEBLXjp1OQiBlA",
      "include_colab_link": true
    },
    "kernelspec": {
      "name": "python3",
      "display_name": "Python 3"
    }
  },
  "cells": [
    {
      "cell_type": "markdown",
      "metadata": {
        "id": "view-in-github",
        "colab_type": "text"
      },
      "source": [
        "<a href=\"https://colab.research.google.com/github/Khrons/Curso-de-Fisica/blob/main/CalculoIIB/Exercicios/Semana%201/02.ipynb\" target=\"_parent\"><img src=\"https://colab.research.google.com/assets/colab-badge.svg\" alt=\"Open In Colab\"/></a>"
      ]
    },
    {
      "cell_type": "code",
      "metadata": {
        "id": "Q5cBE_BsHvrF",
        "colab": {
          "base_uri": "https://localhost:8080/",
          "height": 38
        },
        "outputId": "b89d1ee0-d482-440c-c55c-faefd79aeac2"
      },
      "source": [
        "#@title\n",
        "import numpy as np\n",
        "import matplotlib.pyplot as plt\n",
        "import sympy as sy\n",
        "from mpl_toolkits.mplot3d import axes3d\n",
        "sy.init_printing()\n",
        "sy.var('x, y, t, P, Q, PQ')"
      ],
      "execution_count": 18,
      "outputs": [
        {
          "output_type": "execute_result",
          "data": {
            "image/png": "[encoded data removed]",
            "text/latex": "$$\\left ( x, \\quad y, \\quad t, \\quad P, \\quad Q, \\quad PQ\\right )$$",
            "text/plain": [
              "(x, y, t, P, Q, PQ)"
            ]
          },
          "metadata": {
            "tags": []
          },
          "execution_count": 18
        }
      ]
    },
    {
      "cell_type": "code",
      "metadata": {
        "colab": {
          "base_uri": "https://localhost:8080/",
          "height": 38
        },
        "id": "gz0ol-d5JCzV",
        "outputId": "2219ae4e-3836-4aed-ee0a-4d62cb30f2c0"
      },
      "source": [
        "sy.Lambda(PQ, P + t(Q-P))"
      ],
      "execution_count": 19,
      "outputs": [
        {
          "output_type": "execute_result",
          "data": {
            "image/png": "[encoded data removed]",
            "text/latex": "$$\\left( PQ \\mapsto P + t{\\left (- P + Q \\right )} \\right)$$",
            "text/plain": [
              "PQ ↦ P + t(-P + Q)"
            ]
          },
          "metadata": {
            "tags": []
          },
          "execution_count": 19
        }
      ]
    },
    {
      "cell_type": "markdown",
      "metadata": {
        "id": "wR3vg82Hllqr"
      },
      "source": [
        "P = (1, 3, 5)\r\n",
        "Q = (1, 2, 3)\r\n",
        "\r\n",
        "---\r\n",
        "\r\n",
        "(1, 3, 5) + t(0, -1, -2)\r\n",
        "\r\n",
        "a = 0\r\n",
        "\r\n",
        "b = -1\r\n",
        "\r\n",
        "c = -2\r\n",
        "\r\n",
        "---\r\n",
        "\r\n",
        "1, 3 -t, 5 -2t\r\n",
        "\r\n",
        "---\r\n",
        "\r\n",
        "\r\n",
        "eqParametrica = [1, 3 - t, 5 - 2t]\r\n",
        "\r\n",
        "x = 1\r\n",
        "\r\n",
        "y = 3 - t\r\n",
        "\r\n",
        "z = 5 - 2t\r\n",
        "\r\n",
        "\r\n",
        "\r\n",
        "---\r\n",
        "\r\n",
        "\r\n",
        "Se temos a equação paramétrica para todos os eixos como x(t) = x0 + at,\r\n",
        "y(t) = y0 + bt, z(t) = z0 + ct, podemos colocar a equação cartesiana (e retirar o parametro t) como:\r\n",
        "\r\n",
        "(x - x0) / a = (y -y0) / b = (z- z0) / c\r\n",
        "\r\n",
        "como a = 0, b = -1 e c = -2\r\n",
        "\r\n",
        "Eq. Cartesiana: {x - x0; (y - 3) / -2 = (z - 5) / -2}"
      ]
    }
  ]
}