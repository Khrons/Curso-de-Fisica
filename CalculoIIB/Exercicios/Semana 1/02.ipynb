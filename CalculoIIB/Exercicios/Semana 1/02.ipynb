{
  "nbformat": 4,
  "nbformat_minor": 0,
  "metadata": {
    "colab": {
      "name": "2B-2.ipynb",
      "provenance": [],
      "authorship_tag": "ABX9TyMVGmt3g8FXoXvBUAkvIIYs",
      "include_colab_link": true
    },
    "kernelspec": {
      "name": "python3",
      "display_name": "Python 3"
    }
  },
  "cells": [
    {
      "cell_type": "markdown",
      "metadata": {
        "id": "view-in-github",
        "colab_type": "text"
      },
      "source": [
        "<a href=\"https://colab.research.google.com/github/Khrons/Curso-de-Fisica/blob/main/CalculoIIB/Exercicios/2B_2.ipynb\" target=\"_parent\"><img src=\"https://colab.research.google.com/assets/colab-badge.svg\" alt=\"Open In Colab\"/></a>"
      ]
    },
    {
      "cell_type": "code",
      "metadata": {
        "id": "Q5cBE_BsHvrF",
        "colab": {
          "base_uri": "https://localhost:8080/",
          "height": 38
        },
        "outputId": "9151fe7a-36fb-4108-eb74-89c2d9a533b7"
      },
      "source": [
        "#@title\n",
        "import numpy as np\n",
        "import matplotlib.pyplot as plt\n",
        "import sympy as sy\n",
        "from mpl_toolkits.mplot3d import axes3d\n",
        "sy.init_printing()\n",
        "sy.var('x, y, t, P, Q')"
      ],
      "execution_count": 5,
      "outputs": [
        {
          "output_type": "execute_result",
          "data": {
            "image/png": "[encoded data removed]",
            "text/latex": "$$\\left ( x, \\quad y, \\quad t, \\quad P, \\quad Q\\right )$$",
            "text/plain": [
              "(x, y, t, P, Q)"
            ]
          },
          "metadata": {
            "tags": []
          },
          "execution_count": 5
        }
      ]
    },
    {
      "cell_type": "code",
      "metadata": {
        "colab": {
          "base_uri": "https://localhost:8080/",
          "height": 38
        },
        "id": "gz0ol-d5JCzV",
        "outputId": "e74feb57-80fa-4110-b9c5-e804f03e2595"
      },
      "source": [
        "sy.Lambda(PQ, (1 - t)*P + t*Q)"
      ],
      "execution_count": 6,
      "outputs": [
        {
          "output_type": "execute_result",
          "data": {
            "image/png": "[encoded data removed]",
            "text/latex": "$$\\left( PQ \\mapsto P \\left(- t + 1\\right) + Q t \\right)$$",
            "text/plain": [
              "PQ ↦ P⋅(-t + 1) + Q⋅t"
            ]
          },
          "metadata": {
            "tags": []
          },
          "execution_count": 6
        }
      ]
    },
    {
      "cell_type": "markdown",
      "metadata": {
        "id": "wR3vg82Hllqr"
      },
      "source": [
        "P = (1, 3, 5)\r\n",
        "Q = (1, 2, 3)\r\n",
        "\r\n",
        "---\r\n",
        "\r\n",
        "(1, 3, 5)(-t + 1) + (1, 2, 3)t\r\n",
        "\r\n",
        "(-t + 1 + t, -3t + 3 +2t, -5t + 5 + 3t)\r\n",
        "\r\n",
        "---\r\n",
        "\r\n",
        "\r\n",
        "eqParametrica = [1, 3 - t, 5 - 2t)]\r\n",
        "\r\n",
        "x = 1\r\n",
        "\r\n",
        "y = 3 - t\r\n",
        "\r\n",
        "z = 5 - 2t\r\n",
        "\r\n",
        "\r\n",
        "\r\n",
        "---\r\n",
        "\r\n",
        "\r\n",
        "z = 5 - (2 * (3 - y))\r\n",
        "\r\n",
        "z = 5 - (6 - 2y)\r\n",
        "\r\n",
        "z = -1 - 2y\r\n",
        "\r\n",
        "z + 2y + 1 = 0\r\n",
        "\r\n",
        "\r\n",
        "---\r\n",
        "\r\n",
        "\r\n",
        "\r\n",
        "x + 2y + z = 0"
      ]
    }
  ]
}
