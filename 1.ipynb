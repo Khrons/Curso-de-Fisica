{
  "nbformat": 4,
  "nbformat_minor": 0,
  "metadata": {
    "colab": {
      "name": "1.ipynb",
      "provenance": [],
      "authorship_tag": "ABX9TyPpUYRakqZKX3ChTxH9qSKV",
      "include_colab_link": true
    },
    "kernelspec": {
      "name": "python3",
      "display_name": "Python 3"
    }
  },
  "cells": [
    {
      "cell_type": "markdown",
      "metadata": {
        "id": "view-in-github",
        "colab_type": "text"
      },
      "source": [
        "<a href=\"https://colab.research.google.com/github/Khrons/Exercicios/blob/main/1.ipynb\" target=\"_parent\"><img src=\"https://colab.research.google.com/assets/colab-badge.svg\" alt=\"Open In Colab\"/></a>"
      ]
    },
    {
      "cell_type": "code",
      "metadata": {
        "colab": {
          "base_uri": "https://localhost:8080/",
          "height": 38
        },
        "id": "czVeXLU6CSGd",
        "cellView": "form",
        "outputId": "fce07258-3689-4da8-cd51-bbe322fdcdbb"
      },
      "source": [
        "#@title\n",
        "import numpy as np\n",
        "import matplotlib.pyplot as plt\n",
        "import sympy as sy\n",
        "%matplotlib inline\n",
        "sy.init_printing()\n",
        "sy.var('x, y, t, curva, a(t)')"
      ],
      "execution_count": null,
      "outputs": [
        {
          "output_type": "execute_result",
          "data": {
            "image/png": "[encoded data removed]",
            "text/latex": "$$\\left ( x, \\quad y, \\quad t, \\quad curva, \\quad a(t)\\right )$$",
            "text/plain": [
              "(x, y, t, curva, a(t))"
            ]
          },
          "metadata": {
            "tags": []
          },
          "execution_count": 8
        }
      ]
    },
    {
      "cell_type": "markdown",
      "metadata": {
        "id": "kJi_02KCCwfp"
      },
      "source": [
        "Função vetorial:"
      ]
    },
    {
      "cell_type": "code",
      "metadata": {
        "colab": {
          "base_uri": "https://localhost:8080/",
          "height": 38
        },
        "id": "TT0OQl6BCyIe",
        "outputId": "baf2d83b-8156-4be7-a72a-54f97df21467"
      },
      "source": [
        "sy.Lambda(a, (2+t, 1 + t**2))"
      ],
      "execution_count": null,
      "outputs": [
        {
          "output_type": "execute_result",
          "data": {
            "image/png": "[encoded data removed]",
            "text/latex": "$$\\left( a \\mapsto \\left ( t + 2, \\quad t^{2} + 1\\right ) \\right)$$",
            "text/plain": [
              "    ⎛        2    ⎞\n",
              "a ↦ ⎝t + 2, t  + 1⎠"
            ]
          },
          "metadata": {
            "tags": []
          },
          "execution_count": 10
        }
      ]
    },
    {
      "cell_type": "markdown",
      "metadata": {
        "id": "f5txJ2_9CoDp"
      },
      "source": [
        "Equação cartesiana para a curva representada:"
      ]
    },
    {
      "cell_type": "code",
      "metadata": {
        "colab": {
          "base_uri": "https://localhost:8080/",
          "height": 38
        },
        "id": "TYX-s1MlCmIj",
        "outputId": "1c9dd3f1-9e69-41d6-8afa-6efcee111456"
      },
      "source": [
        "sy.Lambda(y, x **2 - 4*x + 5)"
      ],
      "execution_count": null,
      "outputs": [
        {
          "output_type": "execute_result",
          "data": {
            "image/png": "[encoded data removed]",
            "text/latex": "$$\\left( y \\mapsto x^{2} - 4 x + 5 \\right)$$",
            "text/plain": [
              "     2          \n",
              "y ↦ x  - 4⋅x + 5"
            ]
          },
          "metadata": {
            "tags": []
          },
          "execution_count": 14
        }
      ]
    },
    {
      "cell_type": "markdown",
      "metadata": {
        "id": "ZD-KIqoLCsWd"
      },
      "source": [
        "Gráfico da curva dessa função determinada nos pontos onde t pertence a [1, 4]"
      ]
    },
    {
      "cell_type": "code",
      "metadata": {
        "colab": {
          "base_uri": "https://localhost:8080/",
          "height": 265
        },
        "id": "4mG4yEGpCr1_",
        "outputId": "b006acae-35f2-4810-cf41-6d73defb3dda"
      },
      "source": [
        "x = np.linspace(1, 6)\r\n",
        "eq = x **2 - 4*x + 5\r\n",
        "plt.plot(x, eq)\r\n",
        "plt.grid()\r\n",
        "plt.show()"
      ],
      "execution_count": null,
      "outputs": [
        {
          "output_type": "display_data",
          "data": {
            "image/png": "[encoded data removed]",
            "text/plain": [
              "<Figure size 432x288 with 1 Axes>"
            ]
          },
          "metadata": {
            "tags": [],
            "needs_background": "light"
          }
        }
      ]
    },
    {
      "cell_type": "markdown",
      "metadata": {
        "id": "7CratymbDdAz"
      },
      "source": [
        "Ponto inicial t(1) = (3, 2)\r\n",
        "\r\n",
        "Ponto final t(4) = (6, 17)"
      ]
    }
  ]
}