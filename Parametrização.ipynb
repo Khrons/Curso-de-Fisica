{
  "nbformat": 4,
  "nbformat_minor": 0,
  "metadata": {
    "colab": {
      "name": "Parametrização.ipynb",
      "provenance": [],
      "collapsed_sections": [],
      "authorship_tag": "ABX9TyNsduXH6OeDKRCeCZFtPdbe",
      "include_colab_link": true
    },
    "kernelspec": {
      "name": "python3",
      "display_name": "Python 3"
    }
  },
  "cells": [
    {
      "cell_type": "markdown",
      "metadata": {
        "id": "view-in-github",
        "colab_type": "text"
      },
      "source": [
        "<a href=\"https://colab.research.google.com/github/Khrons/Curso-de-Fisica/blob/main/Parametriza%C3%A7%C3%A3o.ipynb\" target=\"_parent\"><img src=\"https://colab.research.google.com/assets/colab-badge.svg\" alt=\"Open In Colab\"/></a>"
      ]
    },
    {
      "cell_type": "code",
      "metadata": {
        "id": "aphq9xFccsMn"
      },
      "source": [
        "import sympy as sy\r\n",
        "t = sy.Symbol('t')\r\n",
        "x = sy.Symbol('x')\r\n",
        "y = sy.Symbol('y')"
      ],
      "execution_count": 1,
      "outputs": []
    },
    {
      "cell_type": "code",
      "metadata": {
        "colab": {
          "base_uri": "https://localhost:8080/"
        },
        "id": "XUeuVWT1qWCi",
        "outputId": "f532ccbb-99b5-4e91-d149-3a180ee210e0"
      },
      "source": [
        "a = [1, 0, 2]\r\n",
        "b = [2, 2, 3]\r\n",
        "\r\n",
        "for i in range(len(a)):\r\n",
        "  formula = a[i]*(1 - t) + t*b[i]\r\n",
        "  print(formula)"
      ],
      "execution_count": 5,
      "outputs": [
        {
          "output_type": "stream",
          "text": [
            "t + 1\n",
            "2*t\n",
            "t + 2\n"
          ],
          "name": "stdout"
        }
      ]
    },
    {
      "cell_type": "code",
      "metadata": {
        "id": "Y2Rd3f5_XMSb"
      },
      "source": [
        ""
      ],
      "execution_count": null,
      "outputs": []
    }
  ]
}