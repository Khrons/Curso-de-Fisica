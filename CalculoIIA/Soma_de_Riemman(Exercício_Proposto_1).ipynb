{
  "nbformat": 4,
  "nbformat_minor": 0,
  "metadata": {
    "colab": {
      "name": "Soma de Riemman(Exercício Proposto 1).ipynb",
      "provenance": [],
      "collapsed_sections": [],
      "authorship_tag": "ABX9TyP00uDnHUGk87yTFG7emuCM",
      "include_colab_link": true
    },
    "kernelspec": {
      "name": "python3",
      "display_name": "Python 3"
    }
  },
  "cells": [
    {
      "cell_type": "markdown",
      "metadata": {
        "id": "view-in-github",
        "colab_type": "text"
      },
      "source": [
        "<a href=\"https://colab.research.google.com/github/Khrons/CalculoIIA/blob/main/Soma_de_Riemman(Exerc%C3%ADcio_Proposto_1).ipynb\" target=\"_parent\"><img src=\"https://colab.research.google.com/assets/colab-badge.svg\" alt=\"Open In Colab\"/></a>"
      ]
    },
    {
      "cell_type": "code",
      "metadata": {
        "id": "MZU5ucch8ddL"
      },
      "source": [
        "# Importa as bibliotecas essenciais\r\n",
        "\r\n",
        "import math\r\n",
        "import numpy as np\r\n",
        "import matplotlib.pyplot as plt\r\n",
        "from matplotlib.patches import Polygon"
      ],
      "execution_count": null,
      "outputs": []
    },
    {
      "cell_type": "markdown",
      "metadata": {
        "id": "oAnwv4bL01uV"
      },
      "source": [
        "O código calcula a área do gráfico pelo método da soma de Riemann"
      ]
    },
    {
      "cell_type": "code",
      "metadata": {
        "colab": {
          "base_uri": "https://localhost:8080/"
        },
        "id": "n8etJIjbOf8K",
        "outputId": "e5b43a07-d76e-4165-c076-e0f4bfd0f43a"
      },
      "source": [
        "# Os limites de integração a (x0) e b(x1)\r\n",
        "x0 = 0\r\n",
        "x1 = 1\r\n",
        "if x0 > x1:\r\n",
        "  print('A área calculada será negativa')\r\n",
        "\r\n",
        "# O número de retângulos para o cálculo \r\n",
        "n = 100000\r\n",
        "\r\n",
        "# A largura do subintervalo\r\n",
        "base = (x1 - x0) / n\r\n",
        "print('Base dos retângulos =', base)\r\n",
        "print('Quantidade de retângulos =', n)\r\n",
        "\r\n",
        "# funcao = f(x) = x\r\n",
        "expoente = 1\r\n",
        "\r\n",
        "somaRiemann = 0\r\n",
        "# Somatório de Riemann\r\n",
        "for i in range(n):\r\n",
        "  somaRiemann += ((i/(n))**expoente) * base\r\n",
        "\r\n",
        "area = somaRiemann\r\n",
        "print('Área embaixo da curva =', area)\r\n",
        "\r\n",
        "# Pode ser feita também utilizando a fórmula dos n primeiros inteiros positivos\r\n",
        "somatorioRiemann = base * (n * (n + 1)) / (n * 2)\r\n",
        "print('Pela fórmula dos N primeiro inteiros positivos, temos que a área é:',\r\n",
        "      somatorioRiemann)"
      ],
      "execution_count": null,
      "outputs": [
        {
          "output_type": "stream",
          "text": [
            "Base dos retângulos = 1e-05\n",
            "Quantidade de retângulos = 100000\n",
            "Área embaixo da curva = 0.49999500000000024\n",
            "Pela fórmula dos N primeiro inteiros positivos, temos que a área é: 0.500005\n"
          ],
          "name": "stdout"
        }
      ]
    },
    {
      "cell_type": "markdown",
      "metadata": {
        "id": "iuvXwdFK2_sD"
      },
      "source": [
        "A Soma de Riemann funciona por aproximação. Quanto mais próximo de 0 a base é, maior o número de retângulos produzidos para o cálculo, deixando mais aproximado a área calulada.\r\n",
        "\r\n",
        "Nesse caso, a área obtida é 0.499999, que se colocarmos como limite que dita a integral, temos que a área é de 1/2 = 0.5\r\n",
        "\r\n",
        "Utilizando a fórmula dos n primeiros inteiros positivos, temos que o cálculo da área pode ser considerado com a mesma precisão do anterior, porém, de forma mais fácil de ser feita.\r\n",
        "\r\n",
        "Abaixo temos o código e o gráfico da função:"
      ]
    },
    {
      "cell_type": "code",
      "metadata": {
        "colab": {
          "base_uri": "https://localhost:8080/",
          "height": 286
        },
        "id": "dMH4ll26Haba",
        "outputId": "24e688ee-8276-479b-e185-0168fa144541"
      },
      "source": [
        "def func(x):\r\n",
        "    # Aqui vai a função f(x)\r\n",
        "    return x\r\n",
        "\r\n",
        "\r\n",
        "a, b = 0, 1  # integral limits\r\n",
        "x = np.linspace(a, b + 0.2)\r\n",
        "y = func(x)\r\n",
        "\r\n",
        "fig, ax = plt.subplots()\r\n",
        "ax.plot(x, y, 'r', linewidth=2)\r\n",
        "ax.set_ylim(bottom=0)\r\n",
        "\r\n",
        "# Faz a área sombreada da área\r\n",
        "ix = np.linspace(a, b)\r\n",
        "iy = func(ix)\r\n",
        "verts = [(a, 0), *zip(ix, iy), (b, 0)]\r\n",
        "poly = Polygon(verts, facecolor='0.6', edgecolor='0.6')\r\n",
        "ax.add_patch(poly)\r\n",
        "\r\n",
        "fig.text(0.9, 0.05, '$x$')\r\n",
        "fig.text(0.1, 0.9, '$y$')\r\n",
        "\r\n",
        "ax.spines['right'].set_visible(False)\r\n",
        "ax.spines['top'].set_visible(False)\r\n",
        "\r\n",
        "ax.set_xticks((a, b))\r\n",
        "ax.set_xticklabels((a, b))\r\n",
        "ax.set_yticks([])\r\n",
        "\r\n",
        "plt.show()"
      ],
      "execution_count": null,
      "outputs": [
        {
          "output_type": "display_data",
          "data": {
            "image/png": "[encoded data removed]",
            "text/plain": [
              "<Figure size 432x288 with 1 Axes>"
            ]
          },
          "metadata": {
            "tags": [],
            "needs_background": "light"
          }
        }
      ]
    }
  ]
}