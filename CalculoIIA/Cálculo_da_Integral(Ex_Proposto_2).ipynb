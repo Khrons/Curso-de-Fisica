{
  "nbformat": 4,
  "nbformat_minor": 0,
  "metadata": {
    "colab": {
      "name": "Cálculo da Integral(Ex Proposto 2).ipynb",
      "provenance": [],
      "collapsed_sections": [],
      "authorship_tag": "ABX9TyOyGekXubQgo2d0swwLV3Lx",
      "include_colab_link": true
    },
    "kernelspec": {
      "name": "python3",
      "display_name": "Python 3"
    }
  },
  "cells": [
    {
      "cell_type": "markdown",
      "metadata": {
        "id": "view-in-github",
        "colab_type": "text"
      },
      "source": [
        "<a href=\"https://colab.research.google.com/github/Khrons/CalculoIIA/blob/main/C%C3%A1lculo_da_Integral(Ex_Proposto_2).ipynb\" target=\"_parent\"><img src=\"https://colab.research.google.com/assets/colab-badge.svg\" alt=\"Open In Colab\"/></a>"
      ]
    },
    {
      "cell_type": "code",
      "metadata": {
        "id": "lgMFAJWQQxiM"
      },
      "source": [
        "# Importa as bibliotecas necessárias\r\n",
        "\r\n",
        "import numpy as np\r\n",
        "import matplotlib.pyplot as plt\r\n",
        "from sympy import *\r\n",
        "%matplotlib inline\r\n",
        "import warnings\r\n",
        "warnings.filterwarnings('ignore')"
      ],
      "execution_count": 8,
      "outputs": []
    },
    {
      "cell_type": "code",
      "metadata": {
        "id": "rmIAxVNcZxi2",
        "colab": {
          "base_uri": "https://localhost:8080/",
          "height": 38
        },
        "outputId": "de9bb3a2-05c1-4c10-f365-ee6568e76cff"
      },
      "source": [
        "init_printing()\r\n",
        "var('x,y,integral')"
      ],
      "execution_count": 4,
      "outputs": [
        {
          "output_type": "execute_result",
          "data": {
            "image/png": "[encoded data removed]",
            "text/latex": "$$\\left ( x, \\quad y, \\quad integral\\right )$$",
            "text/plain": [
              "(x, y, integral)"
            ]
          },
          "metadata": {
            "tags": []
          },
          "execution_count": 4
        }
      ]
    },
    {
      "cell_type": "code",
      "metadata": {
        "colab": {
          "base_uri": "https://localhost:8080/",
          "height": 38
        },
        "id": "smmWI7wqadL0",
        "outputId": "c76a1236-f72d-491b-e4dd-b810d07596a2"
      },
      "source": [
        "funcao = sqrt(9 - x**2)\r\n",
        "f = Lambda(x, funcao)\r\n",
        "f"
      ],
      "execution_count": 5,
      "outputs": [
        {
          "output_type": "execute_result",
          "data": {
            "image/png": "[encoded data removed]",
            "text/latex": "$$\\left( x \\mapsto \\sqrt{- x^{2} + 9} \\right)$$",
            "text/plain": [
              "       __________\n",
              "      ╱    2     \n",
              "x ↦ ╲╱  - x  + 9 "
            ]
          },
          "metadata": {
            "tags": []
          },
          "execution_count": 5
        }
      ]
    },
    {
      "cell_type": "code",
      "metadata": {
        "colab": {
          "base_uri": "https://localhost:8080/",
          "height": 38
        },
        "id": "SzSAmWJPav-g",
        "outputId": "42a4b3e0-6418-4f4f-d33f-338bb136fbdd"
      },
      "source": [
        "# Limites de integração\r\n",
        "a, b = -3, 3\r\n",
        "fx = Lambda(integral, (integrate(f(x), (x, a, b))))\r\n",
        "fx"
      ],
      "execution_count": 6,
      "outputs": [
        {
          "output_type": "execute_result",
          "data": {
            "image/png": "[encoded data removed]",
            "text/latex": "$$\\left( integral \\mapsto \\frac{9 \\pi}{2} \\right)$$",
            "text/plain": [
              "           9⋅π\n",
              "integral ↦ ───\n",
              "            2 "
            ]
          },
          "metadata": {
            "tags": []
          },
          "execution_count": 6
        }
      ]
    },
    {
      "cell_type": "code",
      "metadata": {
        "colab": {
          "base_uri": "https://localhost:8080/",
          "height": 295
        },
        "id": "-kwDmZiLkg8x",
        "outputId": "395e6f78-f92c-4c40-f9e7-68c13416ca96"
      },
      "source": [
        "p = plot(f(integral), (integral, a, b), show=False)\r\n",
        "q = plot_implicit(y<f(integral), (integral, a, b), (y, 0, 6), show=False)\r\n",
        "p.extend(q)\r\n",
        "p.show()"
      ],
      "execution_count": 9,
      "outputs": [
        {
          "output_type": "display_data",
          "data": {
            "image/png": "[encoded data removed]",
            "text/plain": [
              "<Figure size 432x288 with 1 Axes>"
            ]
          },
          "metadata": {
            "tags": [],
            "needs_background": "light"
          }
        }
      ]
    }
  ]
}